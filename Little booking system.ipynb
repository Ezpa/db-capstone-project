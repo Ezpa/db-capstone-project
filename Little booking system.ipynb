{
 "cells": [
  {
   "cell_type": "code",
   "execution_count": 1,
   "id": "ccc4b4af",
   "metadata": {},
   "outputs": [
    {
     "name": "stdout",
     "output_type": "stream",
     "text": [
      "Requirement already satisfied: mysql-connector-python in c:\\users\\jonathan\\appdata\\local\\programs\\python\\python310\\lib\\site-packages (8.0.32)\n",
      "Requirement already satisfied: protobuf<=3.20.3,>=3.11.0 in c:\\users\\jonathan\\appdata\\local\\programs\\python\\python310\\lib\\site-packages (from mysql-connector-python) (3.20.3)\n"
     ]
    }
   ],
   "source": [
    "!pip install mysql-connector-python"
   ]
  },
  {
   "cell_type": "code",
   "execution_count": 22,
   "id": "86d5da92",
   "metadata": {},
   "outputs": [],
   "source": [
    "import mysql.connector as connector"
   ]
  },
  {
   "cell_type": "code",
   "execution_count": 23,
   "id": "7f59c2b6",
   "metadata": {},
   "outputs": [],
   "source": [
    "connection = connector.connect(user = \"Johnny\", password = \"Slim@the#1\")"
   ]
  },
  {
   "cell_type": "code",
   "execution_count": 24,
   "id": "5f9bb74e",
   "metadata": {},
   "outputs": [],
   "source": [
    "connection = connector.connect(user = \"Johnny\", password = \"Slim@the#1\", db = \"littlelemondb\")"
   ]
  },
  {
   "cell_type": "code",
   "execution_count": 27,
   "id": "984c8c55",
   "metadata": {},
   "outputs": [],
   "source": [
    "cursor=connection.cursor()"
   ]
  },
  {
   "cell_type": "code",
   "execution_count": 28,
   "id": "f4c6c20d",
   "metadata": {},
   "outputs": [],
   "source": [
    "show_tables_query = \"SHOW tables\""
   ]
  },
  {
   "cell_type": "code",
   "execution_count": 29,
   "id": "2336e470",
   "metadata": {},
   "outputs": [],
   "source": [
    "cursor.execute(show_tables_query)"
   ]
  },
  {
   "cell_type": "code",
   "execution_count": 30,
   "id": "5728ba20",
   "metadata": {},
   "outputs": [],
   "source": [
    "results=cursor.fetchall()"
   ]
  },
  {
   "cell_type": "code",
   "execution_count": 31,
   "id": "01652a95",
   "metadata": {},
   "outputs": [
    {
     "name": "stdout",
     "output_type": "stream",
     "text": [
      "[('bookings',), ('customer details',), ('menu',), ('order delivery status',), ('orders',), ('ordersview',), ('staff information',)]\n"
     ]
    }
   ],
   "source": [
    "print(results)"
   ]
  },
  {
   "cell_type": "code",
   "execution_count": 45,
   "id": "2ed58dbb",
   "metadata": {},
   "outputs": [],
   "source": [
    "join_query=\"\"\"SELECT name, ContactInformation, orders.TotalCost FROM `customer details`\n",
    "INNER JOIN orders ON `customer details`.OrderID = orders.OrderID\n",
    "WHERE TotalCost > 60\n",
    "\"\"\""
   ]
  },
  {
   "cell_type": "raw",
   "id": "a4d8ea84",
   "metadata": {},
   "source": [
    "cursor.execute(join_query)"
   ]
  },
  {
   "cell_type": "code",
   "execution_count": 46,
   "id": "057601fd",
   "metadata": {},
   "outputs": [],
   "source": [
    "result=cursor.fetchall()"
   ]
  },
  {
   "cell_type": "code",
   "execution_count": 47,
   "id": "d23703ac",
   "metadata": {},
   "outputs": [
    {
     "name": "stdout",
     "output_type": "stream",
     "text": [
      "[]\n"
     ]
    }
   ],
   "source": [
    "print(result)"
   ]
  },
  {
   "cell_type": "code",
   "execution_count": null,
   "id": "9a2de294",
   "metadata": {},
   "outputs": [],
   "source": []
  }
 ],
 "metadata": {
  "kernelspec": {
   "display_name": "Python 3 (ipykernel)",
   "language": "python",
   "name": "python3"
  },
  "language_info": {
   "codemirror_mode": {
    "name": "ipython",
    "version": 3
   },
   "file_extension": ".py",
   "mimetype": "text/x-python",
   "name": "python",
   "nbconvert_exporter": "python",
   "pygments_lexer": "ipython3",
   "version": "3.10.9"
  }
 },
 "nbformat": 4,
 "nbformat_minor": 5
}
